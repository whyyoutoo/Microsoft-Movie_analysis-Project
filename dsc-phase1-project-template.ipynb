{
 "cells": [
  {
   "cell_type": "markdown",
   "metadata": {},
   "source": [
    "![example](images/director_shot.jpeg)"
   ]
  },
  {
   "cell_type": "markdown",
   "metadata": {},
   "source": [
    "# Movie Analysis\n",
    "\n",
    "**Authors:** Wesley Yu\n",
    "***"
   ]
  },
  {
   "cell_type": "markdown",
   "metadata": {},
   "source": [
    "## Overview\n",
    "\n",
    "This project analyzes data from various movie databases. Exploratory data analysis of the database shows how trends in movie release dates, genres, and production budget can effect the movie's worldwide box office results. Microsoft can use this analysis to help decide which film projects to take on."
   ]
  },
  {
   "cell_type": "markdown",
   "metadata": {},
   "source": [
    "## Business Problem\n",
    "\n",
    "Microsoft is taking their first step into the movie business and will need to sift through an enourmous amount of scripts \n",
    "to find a profitable project to take on. Using data from movie databases, we can find patterns and trends that can help Microsoft narrow down their choices.\n"
   ]
  },
  {
   "cell_type": "markdown",
   "metadata": {},
   "source": [
    "## Data Understanding\n",
    "\n",
    "In this project, we will be looking at datasets from two sources. The Numbers and TMDB.\n",
    "The Numbers has been tracking data about the movie industry since 1997, having the most up to date information on box office numbers and movie financials.\n",
    "TMDB is a community built and backed database on movies and TV shows. Data is constanly added and updated by a strong community that is passionate about movie and TV show data.\n",
    "\n",
    "The Numbers dataset we are working with has records from 1915 to 2020. Data on various movie's production budget, domestic, and worldwide gross box office numbers are included.\n",
    "\n",
    "TMDB dataset includes records from 1930 to 2020. Every movie has a unique TMDB ID associated to them. The dataset provides\n",
    "genre ids, popularity, and movie rating based off their community.\n",
    "\n",
    "We will be combining these two datasets to match movie financials with there respective genres from the past 10 years.\n"
   ]
  },
  {
   "cell_type": "code",
   "execution_count": 1,
   "metadata": {},
   "outputs": [],
   "source": [
    "# Import standard packages\n",
    "import pandas as pd\n",
    "import numpy as np\n",
    "import matplotlib.pyplot as plt\n",
    "import matplotlib.ticker as ticker\n",
    "import seaborn as sns\n",
    "import json\n",
    "\n",
    "%matplotlib inline"
   ]
  },
  {
   "cell_type": "code",
   "execution_count": 2,
   "metadata": {},
   "outputs": [
    {
     "data": {
      "text/html": [
       "<div>\n",
       "<style scoped>\n",
       "    .dataframe tbody tr th:only-of-type {\n",
       "        vertical-align: middle;\n",
       "    }\n",
       "\n",
       "    .dataframe tbody tr th {\n",
       "        vertical-align: top;\n",
       "    }\n",
       "\n",
       "    .dataframe thead th {\n",
       "        text-align: right;\n",
       "    }\n",
       "</style>\n",
       "<table border=\"1\" class=\"dataframe\">\n",
       "  <thead>\n",
       "    <tr style=\"text-align: right;\">\n",
       "      <th></th>\n",
       "      <th>id</th>\n",
       "      <th>release_date</th>\n",
       "      <th>movie</th>\n",
       "      <th>production_budget</th>\n",
       "      <th>domestic_gross</th>\n",
       "      <th>worldwide_gross</th>\n",
       "    </tr>\n",
       "  </thead>\n",
       "  <tbody>\n",
       "    <tr>\n",
       "      <th>0</th>\n",
       "      <td>1</td>\n",
       "      <td>Dec 18, 2009</td>\n",
       "      <td>Avatar</td>\n",
       "      <td>$425,000,000</td>\n",
       "      <td>$760,507,625</td>\n",
       "      <td>$2,776,345,279</td>\n",
       "    </tr>\n",
       "    <tr>\n",
       "      <th>1</th>\n",
       "      <td>2</td>\n",
       "      <td>May 20, 2011</td>\n",
       "      <td>Pirates of the Caribbean: On Stranger Tides</td>\n",
       "      <td>$410,600,000</td>\n",
       "      <td>$241,063,875</td>\n",
       "      <td>$1,045,663,875</td>\n",
       "    </tr>\n",
       "    <tr>\n",
       "      <th>2</th>\n",
       "      <td>3</td>\n",
       "      <td>Jun 7, 2019</td>\n",
       "      <td>Dark Phoenix</td>\n",
       "      <td>$350,000,000</td>\n",
       "      <td>$42,762,350</td>\n",
       "      <td>$149,762,350</td>\n",
       "    </tr>\n",
       "    <tr>\n",
       "      <th>3</th>\n",
       "      <td>4</td>\n",
       "      <td>May 1, 2015</td>\n",
       "      <td>Avengers: Age of Ultron</td>\n",
       "      <td>$330,600,000</td>\n",
       "      <td>$459,005,868</td>\n",
       "      <td>$1,403,013,963</td>\n",
       "    </tr>\n",
       "    <tr>\n",
       "      <th>4</th>\n",
       "      <td>5</td>\n",
       "      <td>Dec 15, 2017</td>\n",
       "      <td>Star Wars Ep. VIII: The Last Jedi</td>\n",
       "      <td>$317,000,000</td>\n",
       "      <td>$620,181,382</td>\n",
       "      <td>$1,316,721,747</td>\n",
       "    </tr>\n",
       "  </tbody>\n",
       "</table>\n",
       "</div>"
      ],
      "text/plain": [
       "   id  release_date                                        movie  \\\n",
       "0   1  Dec 18, 2009                                       Avatar   \n",
       "1   2  May 20, 2011  Pirates of the Caribbean: On Stranger Tides   \n",
       "2   3   Jun 7, 2019                                 Dark Phoenix   \n",
       "3   4   May 1, 2015                      Avengers: Age of Ultron   \n",
       "4   5  Dec 15, 2017            Star Wars Ep. VIII: The Last Jedi   \n",
       "\n",
       "  production_budget domestic_gross worldwide_gross  \n",
       "0      $425,000,000   $760,507,625  $2,776,345,279  \n",
       "1      $410,600,000   $241,063,875  $1,045,663,875  \n",
       "2      $350,000,000    $42,762,350    $149,762,350  \n",
       "3      $330,600,000   $459,005,868  $1,403,013,963  \n",
       "4      $317,000,000   $620,181,382  $1,316,721,747  "
      ]
     },
     "execution_count": 2,
     "metadata": {},
     "output_type": "execute_result"
    }
   ],
   "source": [
    "# Open numbers database and examine first 5 records\n",
    "numdf = pd.read_csv('Data/tn.movie_budgets.csv.gz')\n",
    "numdf.head()"
   ]
  },
  {
   "cell_type": "code",
   "execution_count": 3,
   "metadata": {},
   "outputs": [
    {
     "name": "stdout",
     "output_type": "stream",
     "text": [
      "<class 'pandas.core.frame.DataFrame'>\n",
      "RangeIndex: 5782 entries, 0 to 5781\n",
      "Data columns (total 6 columns):\n",
      " #   Column             Non-Null Count  Dtype \n",
      "---  ------             --------------  ----- \n",
      " 0   id                 5782 non-null   int64 \n",
      " 1   release_date       5782 non-null   object\n",
      " 2   movie              5782 non-null   object\n",
      " 3   production_budget  5782 non-null   object\n",
      " 4   domestic_gross     5782 non-null   object\n",
      " 5   worldwide_gross    5782 non-null   object\n",
      "dtypes: int64(1), object(5)\n",
      "memory usage: 271.2+ KB\n"
     ]
    }
   ],
   "source": [
    "numdf.info() # no missing values found"
   ]
  },
  {
   "cell_type": "markdown",
   "metadata": {},
   "source": [
    "I want to look at records from 2010 and onwards to find any patterns in more recent movies. Change <code>release_date</code> to datetime type."
   ]
  },
  {
   "cell_type": "code",
   "execution_count": 4,
   "metadata": {},
   "outputs": [],
   "source": [
    "numdf['release_date'] = pd.to_datetime(numdf['release_date'])\n",
    "numdf = numdf[numdf['release_date'].dt.year > 2009]"
   ]
  },
  {
   "cell_type": "markdown",
   "metadata": {},
   "source": [
    "Values in <code>production_budget</code> and <code>worldwide_gross</code> are strings, we will need to change them to int for analysis."
   ]
  },
  {
   "cell_type": "code",
   "execution_count": 5,
   "metadata": {},
   "outputs": [],
   "source": [
    "numdf['production_budget'] = numdf['production_budget'].map(lambda x: int(x.strip('$').replace(',','')))\n",
    "numdf['worldwide_gross'] = numdf['worldwide_gross'].map(lambda x: int(x.strip('$').replace(',','')))"
   ]
  },
  {
   "cell_type": "code",
   "execution_count": 6,
   "metadata": {},
   "outputs": [
    {
     "data": {
      "text/html": [
       "<div>\n",
       "<style scoped>\n",
       "    .dataframe tbody tr th:only-of-type {\n",
       "        vertical-align: middle;\n",
       "    }\n",
       "\n",
       "    .dataframe tbody tr th {\n",
       "        vertical-align: top;\n",
       "    }\n",
       "\n",
       "    .dataframe thead th {\n",
       "        text-align: right;\n",
       "    }\n",
       "</style>\n",
       "<table border=\"1\" class=\"dataframe\">\n",
       "  <thead>\n",
       "    <tr style=\"text-align: right;\">\n",
       "      <th></th>\n",
       "      <th>Unnamed: 0</th>\n",
       "      <th>genre_ids</th>\n",
       "      <th>id</th>\n",
       "      <th>original_language</th>\n",
       "      <th>original_title</th>\n",
       "      <th>popularity</th>\n",
       "      <th>release_date</th>\n",
       "      <th>title</th>\n",
       "      <th>vote_average</th>\n",
       "      <th>vote_count</th>\n",
       "    </tr>\n",
       "  </thead>\n",
       "  <tbody>\n",
       "    <tr>\n",
       "      <th>0</th>\n",
       "      <td>0</td>\n",
       "      <td>[12, 14, 10751]</td>\n",
       "      <td>12444</td>\n",
       "      <td>en</td>\n",
       "      <td>Harry Potter and the Deathly Hallows: Part 1</td>\n",
       "      <td>33.533</td>\n",
       "      <td>2010-11-19</td>\n",
       "      <td>Harry Potter and the Deathly Hallows: Part 1</td>\n",
       "      <td>7.7</td>\n",
       "      <td>10788</td>\n",
       "    </tr>\n",
       "    <tr>\n",
       "      <th>1</th>\n",
       "      <td>1</td>\n",
       "      <td>[14, 12, 16, 10751]</td>\n",
       "      <td>10191</td>\n",
       "      <td>en</td>\n",
       "      <td>How to Train Your Dragon</td>\n",
       "      <td>28.734</td>\n",
       "      <td>2010-03-26</td>\n",
       "      <td>How to Train Your Dragon</td>\n",
       "      <td>7.7</td>\n",
       "      <td>7610</td>\n",
       "    </tr>\n",
       "    <tr>\n",
       "      <th>2</th>\n",
       "      <td>2</td>\n",
       "      <td>[12, 28, 878]</td>\n",
       "      <td>10138</td>\n",
       "      <td>en</td>\n",
       "      <td>Iron Man 2</td>\n",
       "      <td>28.515</td>\n",
       "      <td>2010-05-07</td>\n",
       "      <td>Iron Man 2</td>\n",
       "      <td>6.8</td>\n",
       "      <td>12368</td>\n",
       "    </tr>\n",
       "    <tr>\n",
       "      <th>3</th>\n",
       "      <td>3</td>\n",
       "      <td>[16, 35, 10751]</td>\n",
       "      <td>862</td>\n",
       "      <td>en</td>\n",
       "      <td>Toy Story</td>\n",
       "      <td>28.005</td>\n",
       "      <td>1995-11-22</td>\n",
       "      <td>Toy Story</td>\n",
       "      <td>7.9</td>\n",
       "      <td>10174</td>\n",
       "    </tr>\n",
       "    <tr>\n",
       "      <th>4</th>\n",
       "      <td>4</td>\n",
       "      <td>[28, 878, 12]</td>\n",
       "      <td>27205</td>\n",
       "      <td>en</td>\n",
       "      <td>Inception</td>\n",
       "      <td>27.920</td>\n",
       "      <td>2010-07-16</td>\n",
       "      <td>Inception</td>\n",
       "      <td>8.3</td>\n",
       "      <td>22186</td>\n",
       "    </tr>\n",
       "  </tbody>\n",
       "</table>\n",
       "</div>"
      ],
      "text/plain": [
       "   Unnamed: 0            genre_ids     id original_language  \\\n",
       "0           0      [12, 14, 10751]  12444                en   \n",
       "1           1  [14, 12, 16, 10751]  10191                en   \n",
       "2           2        [12, 28, 878]  10138                en   \n",
       "3           3      [16, 35, 10751]    862                en   \n",
       "4           4        [28, 878, 12]  27205                en   \n",
       "\n",
       "                                 original_title  popularity release_date  \\\n",
       "0  Harry Potter and the Deathly Hallows: Part 1      33.533   2010-11-19   \n",
       "1                      How to Train Your Dragon      28.734   2010-03-26   \n",
       "2                                    Iron Man 2      28.515   2010-05-07   \n",
       "3                                     Toy Story      28.005   1995-11-22   \n",
       "4                                     Inception      27.920   2010-07-16   \n",
       "\n",
       "                                          title  vote_average  vote_count  \n",
       "0  Harry Potter and the Deathly Hallows: Part 1           7.7       10788  \n",
       "1                      How to Train Your Dragon           7.7        7610  \n",
       "2                                    Iron Man 2           6.8       12368  \n",
       "3                                     Toy Story           7.9       10174  \n",
       "4                                     Inception           8.3       22186  "
      ]
     },
     "execution_count": 6,
     "metadata": {},
     "output_type": "execute_result"
    }
   ],
   "source": [
    "# Open numbers database and examine first 5 records\n",
    "tmdf = pd.read_csv('Data/tmdb.movies.csv.gz')\n",
    "tmdf.head()"
   ]
  },
  {
   "cell_type": "code",
   "execution_count": 7,
   "metadata": {},
   "outputs": [
    {
     "name": "stdout",
     "output_type": "stream",
     "text": [
      "<class 'pandas.core.frame.DataFrame'>\n",
      "RangeIndex: 26517 entries, 0 to 26516\n",
      "Data columns (total 10 columns):\n",
      " #   Column             Non-Null Count  Dtype  \n",
      "---  ------             --------------  -----  \n",
      " 0   Unnamed: 0         26517 non-null  int64  \n",
      " 1   genre_ids          26517 non-null  object \n",
      " 2   id                 26517 non-null  int64  \n",
      " 3   original_language  26517 non-null  object \n",
      " 4   original_title     26517 non-null  object \n",
      " 5   popularity         26517 non-null  float64\n",
      " 6   release_date       26517 non-null  object \n",
      " 7   title              26517 non-null  object \n",
      " 8   vote_average       26517 non-null  float64\n",
      " 9   vote_count         26517 non-null  int64  \n",
      "dtypes: float64(2), int64(3), object(5)\n",
      "memory usage: 2.0+ MB\n"
     ]
    }
   ],
   "source": [
    "tmdf.info()  # no missing values found"
   ]
  },
  {
   "cell_type": "code",
   "execution_count": 8,
   "metadata": {},
   "outputs": [],
   "source": [
    "tmdf['release_date'] = pd.to_datetime(tmdf['release_date'])\n",
    "tmdf = tmdf[tmdf['release_date'].dt.year > 2009]"
   ]
  },
  {
   "cell_type": "markdown",
   "metadata": {},
   "source": [
    "## Data Preparation\n",
    "\n",
    "### Data Cleaning \n",
    "\n",
    "For both datasets, I check for any duplicates and drop them if found. Unnecessary columns are dropped and column names are renamed to make working on them easier."
   ]
  },
  {
   "cell_type": "code",
   "execution_count": 9,
   "metadata": {},
   "outputs": [
    {
     "data": {
      "text/plain": [
       "release_date  movie                  \n",
       "2020-12-31    Moonfall                   1\n",
       "2012-11-16    Silver Linings Playbook    1\n",
       "2012-11-30    Killing Them Softly        1\n",
       "2012-11-23    De rouille et dâos       1\n",
       "2012-11-21    Rise of the Guardians      1\n",
       "                                        ..\n",
       "2015-09-11    90 Minutes in Heaven       1\n",
       "              The Perfect Guy            1\n",
       "              The Visit                  1\n",
       "2015-09-18    Black Mass                 1\n",
       "2010-01-08    Daybreakers                1\n",
       "Length: 2194, dtype: int64"
      ]
     },
     "execution_count": 9,
     "metadata": {},
     "output_type": "execute_result"
    }
   ],
   "source": [
    "# Check for any duplicates based on release year and movie name\n",
    "numdf.value_counts(['release_date', 'movie'])"
   ]
  },
  {
   "cell_type": "code",
   "execution_count": 10,
   "metadata": {},
   "outputs": [
    {
     "data": {
      "text/plain": [
       "152044    3\n",
       "378425    3\n",
       "402448    3\n",
       "192767    3\n",
       "192023    3\n",
       "         ..\n",
       "350846    1\n",
       "479871    1\n",
       "500353    1\n",
       "439007    1\n",
       "524288    1\n",
       "Name: id, Length: 25288, dtype: int64"
      ]
     },
     "execution_count": 10,
     "metadata": {},
     "output_type": "execute_result"
    }
   ],
   "source": [
    "# Check for any duplicates based on unique id\n",
    "tmdf['id'].value_counts()"
   ]
  },
  {
   "cell_type": "code",
   "execution_count": 11,
   "metadata": {},
   "outputs": [
    {
     "data": {
      "text/html": [
       "<div>\n",
       "<style scoped>\n",
       "    .dataframe tbody tr th:only-of-type {\n",
       "        vertical-align: middle;\n",
       "    }\n",
       "\n",
       "    .dataframe tbody tr th {\n",
       "        vertical-align: top;\n",
       "    }\n",
       "\n",
       "    .dataframe thead th {\n",
       "        text-align: right;\n",
       "    }\n",
       "</style>\n",
       "<table border=\"1\" class=\"dataframe\">\n",
       "  <thead>\n",
       "    <tr style=\"text-align: right;\">\n",
       "      <th></th>\n",
       "      <th>Unnamed: 0</th>\n",
       "      <th>genre_ids</th>\n",
       "      <th>id</th>\n",
       "      <th>original_language</th>\n",
       "      <th>original_title</th>\n",
       "      <th>popularity</th>\n",
       "      <th>release_date</th>\n",
       "      <th>title</th>\n",
       "      <th>vote_average</th>\n",
       "      <th>vote_count</th>\n",
       "    </tr>\n",
       "  </thead>\n",
       "  <tbody>\n",
       "    <tr>\n",
       "      <th>5532</th>\n",
       "      <td>5532</td>\n",
       "      <td>[53, 16, 14]</td>\n",
       "      <td>152044</td>\n",
       "      <td>ja</td>\n",
       "      <td>劇場版 魔法少女まどか☆マギカ[後編] 永遠の物語</td>\n",
       "      <td>6.393</td>\n",
       "      <td>2012-10-19</td>\n",
       "      <td>Puella Magi Madoka Magica the Movie Part II: E...</td>\n",
       "      <td>8.0</td>\n",
       "      <td>53</td>\n",
       "    </tr>\n",
       "    <tr>\n",
       "      <th>11484</th>\n",
       "      <td>11484</td>\n",
       "      <td>[53, 16, 14]</td>\n",
       "      <td>152044</td>\n",
       "      <td>ja</td>\n",
       "      <td>劇場版 魔法少女まどか☆マギカ[後編] 永遠の物語</td>\n",
       "      <td>6.393</td>\n",
       "      <td>2012-10-19</td>\n",
       "      <td>Puella Magi Madoka Magica the Movie Part II: E...</td>\n",
       "      <td>8.0</td>\n",
       "      <td>53</td>\n",
       "    </tr>\n",
       "    <tr>\n",
       "      <th>17896</th>\n",
       "      <td>17896</td>\n",
       "      <td>[53, 16, 14]</td>\n",
       "      <td>152044</td>\n",
       "      <td>ja</td>\n",
       "      <td>劇場版 魔法少女まどか☆マギカ[後編] 永遠の物語</td>\n",
       "      <td>6.393</td>\n",
       "      <td>2012-10-19</td>\n",
       "      <td>Puella Magi Madoka Magica the Movie Part II: E...</td>\n",
       "      <td>8.0</td>\n",
       "      <td>53</td>\n",
       "    </tr>\n",
       "  </tbody>\n",
       "</table>\n",
       "</div>"
      ],
      "text/plain": [
       "       Unnamed: 0     genre_ids      id original_language  \\\n",
       "5532         5532  [53, 16, 14]  152044                ja   \n",
       "11484       11484  [53, 16, 14]  152044                ja   \n",
       "17896       17896  [53, 16, 14]  152044                ja   \n",
       "\n",
       "                  original_title  popularity release_date  \\\n",
       "5532   劇場版 魔法少女まどか☆マギカ[後編] 永遠の物語       6.393   2012-10-19   \n",
       "11484  劇場版 魔法少女まどか☆マギカ[後編] 永遠の物語       6.393   2012-10-19   \n",
       "17896  劇場版 魔法少女まどか☆マギカ[後編] 永遠の物語       6.393   2012-10-19   \n",
       "\n",
       "                                                   title  vote_average  \\\n",
       "5532   Puella Magi Madoka Magica the Movie Part II: E...           8.0   \n",
       "11484  Puella Magi Madoka Magica the Movie Part II: E...           8.0   \n",
       "17896  Puella Magi Madoka Magica the Movie Part II: E...           8.0   \n",
       "\n",
       "       vote_count  \n",
       "5532           53  \n",
       "11484          53  \n",
       "17896          53  "
      ]
     },
     "execution_count": 11,
     "metadata": {},
     "output_type": "execute_result"
    }
   ],
   "source": [
    "tmdf[tmdf['id'] == 152044]"
   ]
  },
  {
   "cell_type": "code",
   "execution_count": 12,
   "metadata": {},
   "outputs": [
    {
     "data": {
      "text/html": [
       "<div>\n",
       "<style scoped>\n",
       "    .dataframe tbody tr th:only-of-type {\n",
       "        vertical-align: middle;\n",
       "    }\n",
       "\n",
       "    .dataframe tbody tr th {\n",
       "        vertical-align: top;\n",
       "    }\n",
       "\n",
       "    .dataframe thead th {\n",
       "        text-align: right;\n",
       "    }\n",
       "</style>\n",
       "<table border=\"1\" class=\"dataframe\">\n",
       "  <thead>\n",
       "    <tr style=\"text-align: right;\">\n",
       "      <th></th>\n",
       "      <th>Unnamed: 0</th>\n",
       "      <th>genre_ids</th>\n",
       "      <th>id</th>\n",
       "      <th>original_language</th>\n",
       "      <th>original_title</th>\n",
       "      <th>popularity</th>\n",
       "      <th>release_date</th>\n",
       "      <th>title</th>\n",
       "      <th>vote_average</th>\n",
       "      <th>vote_count</th>\n",
       "    </tr>\n",
       "  </thead>\n",
       "  <tbody>\n",
       "    <tr>\n",
       "      <th>16405</th>\n",
       "      <td>16405</td>\n",
       "      <td>[99]</td>\n",
       "      <td>378425</td>\n",
       "      <td>en</td>\n",
       "      <td>Here Come the Videofreex</td>\n",
       "      <td>0.631</td>\n",
       "      <td>2015-06-21</td>\n",
       "      <td>Here Come the Videofreex</td>\n",
       "      <td>8.0</td>\n",
       "      <td>1</td>\n",
       "    </tr>\n",
       "    <tr>\n",
       "      <th>19789</th>\n",
       "      <td>19789</td>\n",
       "      <td>[99]</td>\n",
       "      <td>378425</td>\n",
       "      <td>en</td>\n",
       "      <td>Here Come the Videofreex</td>\n",
       "      <td>0.631</td>\n",
       "      <td>2015-06-21</td>\n",
       "      <td>Here Come the Videofreex</td>\n",
       "      <td>8.0</td>\n",
       "      <td>1</td>\n",
       "    </tr>\n",
       "    <tr>\n",
       "      <th>23048</th>\n",
       "      <td>23048</td>\n",
       "      <td>[99]</td>\n",
       "      <td>378425</td>\n",
       "      <td>en</td>\n",
       "      <td>Here Come the Videofreex</td>\n",
       "      <td>0.631</td>\n",
       "      <td>2015-06-21</td>\n",
       "      <td>Here Come the Videofreex</td>\n",
       "      <td>8.0</td>\n",
       "      <td>1</td>\n",
       "    </tr>\n",
       "  </tbody>\n",
       "</table>\n",
       "</div>"
      ],
      "text/plain": [
       "       Unnamed: 0 genre_ids      id original_language  \\\n",
       "16405       16405      [99]  378425                en   \n",
       "19789       19789      [99]  378425                en   \n",
       "23048       23048      [99]  378425                en   \n",
       "\n",
       "                 original_title  popularity release_date  \\\n",
       "16405  Here Come the Videofreex       0.631   2015-06-21   \n",
       "19789  Here Come the Videofreex       0.631   2015-06-21   \n",
       "23048  Here Come the Videofreex       0.631   2015-06-21   \n",
       "\n",
       "                          title  vote_average  vote_count  \n",
       "16405  Here Come the Videofreex           8.0           1  \n",
       "19789  Here Come the Videofreex           8.0           1  \n",
       "23048  Here Come the Videofreex           8.0           1  "
      ]
     },
     "execution_count": 12,
     "metadata": {},
     "output_type": "execute_result"
    }
   ],
   "source": [
    "tmdf[tmdf['id'] == 378425]"
   ]
  },
  {
   "cell_type": "code",
   "execution_count": 13,
   "metadata": {},
   "outputs": [
    {
     "data": {
      "text/html": [
       "<div>\n",
       "<style scoped>\n",
       "    .dataframe tbody tr th:only-of-type {\n",
       "        vertical-align: middle;\n",
       "    }\n",
       "\n",
       "    .dataframe tbody tr th {\n",
       "        vertical-align: top;\n",
       "    }\n",
       "\n",
       "    .dataframe thead th {\n",
       "        text-align: right;\n",
       "    }\n",
       "</style>\n",
       "<table border=\"1\" class=\"dataframe\">\n",
       "  <thead>\n",
       "    <tr style=\"text-align: right;\">\n",
       "      <th></th>\n",
       "      <th>Unnamed: 0</th>\n",
       "      <th>genre_ids</th>\n",
       "      <th>id</th>\n",
       "      <th>original_language</th>\n",
       "      <th>original_title</th>\n",
       "      <th>popularity</th>\n",
       "      <th>release_date</th>\n",
       "      <th>title</th>\n",
       "      <th>vote_average</th>\n",
       "      <th>vote_count</th>\n",
       "    </tr>\n",
       "  </thead>\n",
       "  <tbody>\n",
       "    <tr>\n",
       "      <th>12217</th>\n",
       "      <td>12217</td>\n",
       "      <td>[18]</td>\n",
       "      <td>192767</td>\n",
       "      <td>en</td>\n",
       "      <td>Noble</td>\n",
       "      <td>1.819</td>\n",
       "      <td>2015-05-08</td>\n",
       "      <td>Noble</td>\n",
       "      <td>6.8</td>\n",
       "      <td>16</td>\n",
       "    </tr>\n",
       "    <tr>\n",
       "      <th>15362</th>\n",
       "      <td>15362</td>\n",
       "      <td>[18]</td>\n",
       "      <td>192767</td>\n",
       "      <td>en</td>\n",
       "      <td>Noble</td>\n",
       "      <td>1.819</td>\n",
       "      <td>2015-05-08</td>\n",
       "      <td>Noble</td>\n",
       "      <td>6.8</td>\n",
       "      <td>16</td>\n",
       "    </tr>\n",
       "    <tr>\n",
       "      <th>18646</th>\n",
       "      <td>18646</td>\n",
       "      <td>[18]</td>\n",
       "      <td>192767</td>\n",
       "      <td>en</td>\n",
       "      <td>Noble</td>\n",
       "      <td>1.819</td>\n",
       "      <td>2015-05-08</td>\n",
       "      <td>Noble</td>\n",
       "      <td>6.8</td>\n",
       "      <td>16</td>\n",
       "    </tr>\n",
       "  </tbody>\n",
       "</table>\n",
       "</div>"
      ],
      "text/plain": [
       "       Unnamed: 0 genre_ids      id original_language original_title  \\\n",
       "12217       12217      [18]  192767                en          Noble   \n",
       "15362       15362      [18]  192767                en          Noble   \n",
       "18646       18646      [18]  192767                en          Noble   \n",
       "\n",
       "       popularity release_date  title  vote_average  vote_count  \n",
       "12217       1.819   2015-05-08  Noble           6.8          16  \n",
       "15362       1.819   2015-05-08  Noble           6.8          16  \n",
       "18646       1.819   2015-05-08  Noble           6.8          16  "
      ]
     },
     "execution_count": 13,
     "metadata": {},
     "output_type": "execute_result"
    }
   ],
   "source": [
    "tmdf[tmdf['id'] == 192767]"
   ]
  },
  {
   "cell_type": "markdown",
   "metadata": {},
   "source": [
    "After examining some of the duplicates found, I concluded that they are the same records and can drop them."
   ]
  },
  {
   "cell_type": "code",
   "execution_count": 14,
   "metadata": {},
   "outputs": [],
   "source": [
    "tmdf = tmdf.drop_duplicates(subset = 'id', keep = 'first')"
   ]
  },
  {
   "cell_type": "code",
   "execution_count": 15,
   "metadata": {},
   "outputs": [
    {
     "data": {
      "text/plain": [
       "71677     1\n",
       "226788    1\n",
       "208091    1\n",
       "67811     1\n",
       "561546    1\n",
       "         ..\n",
       "64586     1\n",
       "273488    1\n",
       "97370     1\n",
       "160859    1\n",
       "524288    1\n",
       "Name: id, Length: 25288, dtype: int64"
      ]
     },
     "execution_count": 15,
     "metadata": {},
     "output_type": "execute_result"
    }
   ],
   "source": [
    "tmdf['id'].value_counts()"
   ]
  },
  {
   "cell_type": "code",
   "execution_count": 16,
   "metadata": {},
   "outputs": [
    {
     "name": "stdout",
     "output_type": "stream",
     "text": [
      "<class 'pandas.core.frame.DataFrame'>\n",
      "Int64Index: 25288 entries, 0 to 26516\n",
      "Data columns (total 10 columns):\n",
      " #   Column             Non-Null Count  Dtype         \n",
      "---  ------             --------------  -----         \n",
      " 0   Unnamed: 0         25288 non-null  int64         \n",
      " 1   genre_ids          25288 non-null  object        \n",
      " 2   id                 25288 non-null  int64         \n",
      " 3   original_language  25288 non-null  object        \n",
      " 4   original_title     25288 non-null  object        \n",
      " 5   popularity         25288 non-null  float64       \n",
      " 6   release_date       25288 non-null  datetime64[ns]\n",
      " 7   title              25288 non-null  object        \n",
      " 8   vote_average       25288 non-null  float64       \n",
      " 9   vote_count         25288 non-null  int64         \n",
      "dtypes: datetime64[ns](1), float64(2), int64(3), object(4)\n",
      "memory usage: 2.1+ MB\n"
     ]
    }
   ],
   "source": [
    "tmdf.info()"
   ]
  },
  {
   "cell_type": "code",
   "execution_count": 17,
   "metadata": {},
   "outputs": [],
   "source": [
    "# Drop uneccessary columns\n",
    "numdf = numdf.drop(columns = ['id', 'domestic_gross'])\n",
    "tmdf = tmdf.drop(columns = ['Unnamed: 0', 'original_language', 'title', 'popularity', 'vote_average' 'vote_count'])"
   ]
  },
  {
   "cell_type": "code",
   "execution_count": 18,
   "metadata": {},
   "outputs": [],
   "source": [
    "# Rename movie title column to same name\n",
    "numdf = numdf.rename(columns = {'movie': 'title'})\n",
    "tmdf = tmdf.rename(columns = {'original_title': 'title'})"
   ]
  },
  {
   "cell_type": "markdown",
   "metadata": {},
   "source": [
    "### Merging Datasets\n",
    "\n",
    "After merging datasets, I change the <code>production_budget</code> and <code>worldwide_gross</code> to <code>int</code> datatype."
   ]
  },
  {
   "cell_type": "code",
   "execution_count": 19,
   "metadata": {},
   "outputs": [],
   "source": [
    "# Merge Numbers and TMDB on title and release date\n",
    "df = numdf.merge(tmdf, on = ['title', 'release_date'])\n",
    "df.head()"
   ]
  },
  {
   "cell_type": "code",
   "execution_count": 21,
   "metadata": {},
   "outputs": [
    {
     "name": "stdout",
     "output_type": "stream",
     "text": [
      "<class 'pandas.core.frame.DataFrame'>\n",
      "Int64Index: 1230 entries, 0 to 1229\n",
      "Data columns (total 7 columns):\n",
      " #   Column             Non-Null Count  Dtype         \n",
      "---  ------             --------------  -----         \n",
      " 0   release_date       1230 non-null   datetime64[ns]\n",
      " 1   title              1230 non-null   object        \n",
      " 2   production_budget  1230 non-null   int64         \n",
      " 3   worldwide_gross    1230 non-null   int64         \n",
      " 4   genre_ids          1230 non-null   object        \n",
      " 5   id                 1230 non-null   int64         \n",
      " 6   vote_average       1230 non-null   float64       \n",
      "dtypes: datetime64[ns](1), float64(1), int64(3), object(2)\n",
      "memory usage: 76.9+ KB\n"
     ]
    }
   ],
   "source": [
    "df.info()"
   ]
  },
  {
   "cell_type": "code",
   "execution_count": 22,
   "metadata": {},
   "outputs": [
    {
     "data": {
      "text/plain": [
       "71679     1\n",
       "119450    1\n",
       "47760     1\n",
       "180296    1\n",
       "86838     1\n",
       "         ..\n",
       "276905    1\n",
       "64807     1\n",
       "310569    1\n",
       "286565    1\n",
       "399360    1\n",
       "Name: id, Length: 1230, dtype: int64"
      ]
     },
     "execution_count": 22,
     "metadata": {},
     "output_type": "execute_result"
    }
   ],
   "source": [
    "# Double check for any duplicates after merge\n",
    "df['id'].value_counts()"
   ]
  },
  {
   "cell_type": "code",
   "execution_count": 23,
   "metadata": {},
   "outputs": [
    {
     "data": {
      "text/plain": [
       "Robin Hood           2\n",
       "The Visit            1\n",
       "Courageous           1\n",
       "Elysium              1\n",
       "Two Night Stand      1\n",
       "                    ..\n",
       "Amigo                1\n",
       "Jack Reacher         1\n",
       "We're the Millers    1\n",
       "Mile 22              1\n",
       "Beyond the Lights    1\n",
       "Name: title, Length: 1229, dtype: int64"
      ]
     },
     "execution_count": 23,
     "metadata": {},
     "output_type": "execute_result"
    }
   ],
   "source": [
    "df['title'].value_counts()"
   ]
  },
  {
   "cell_type": "code",
   "execution_count": 24,
   "metadata": {},
   "outputs": [
    {
     "data": {
      "text/html": [
       "<div>\n",
       "<style scoped>\n",
       "    .dataframe tbody tr th:only-of-type {\n",
       "        vertical-align: middle;\n",
       "    }\n",
       "\n",
       "    .dataframe tbody tr th {\n",
       "        vertical-align: top;\n",
       "    }\n",
       "\n",
       "    .dataframe thead th {\n",
       "        text-align: right;\n",
       "    }\n",
       "</style>\n",
       "<table border=\"1\" class=\"dataframe\">\n",
       "  <thead>\n",
       "    <tr style=\"text-align: right;\">\n",
       "      <th></th>\n",
       "      <th>release_date</th>\n",
       "      <th>title</th>\n",
       "      <th>production_budget</th>\n",
       "      <th>worldwide_gross</th>\n",
       "      <th>genre_ids</th>\n",
       "      <th>id</th>\n",
       "      <th>vote_average</th>\n",
       "    </tr>\n",
       "  </thead>\n",
       "  <tbody>\n",
       "    <tr>\n",
       "      <th>23</th>\n",
       "      <td>2010-05-14</td>\n",
       "      <td>Robin Hood</td>\n",
       "      <td>210000000</td>\n",
       "      <td>322459006</td>\n",
       "      <td>[28, 12, 18]</td>\n",
       "      <td>20662</td>\n",
       "      <td>6.3</td>\n",
       "    </tr>\n",
       "    <tr>\n",
       "      <th>181</th>\n",
       "      <td>2018-11-21</td>\n",
       "      <td>Robin Hood</td>\n",
       "      <td>99000000</td>\n",
       "      <td>84747441</td>\n",
       "      <td>[12, 28, 53]</td>\n",
       "      <td>375588</td>\n",
       "      <td>5.8</td>\n",
       "    </tr>\n",
       "  </tbody>\n",
       "</table>\n",
       "</div>"
      ],
      "text/plain": [
       "    release_date       title  production_budget  worldwide_gross  \\\n",
       "23    2010-05-14  Robin Hood          210000000        322459006   \n",
       "181   2018-11-21  Robin Hood           99000000         84747441   \n",
       "\n",
       "        genre_ids      id  vote_average  \n",
       "23   [28, 12, 18]   20662           6.3  \n",
       "181  [12, 28, 53]  375588           5.8  "
      ]
     },
     "execution_count": 24,
     "metadata": {},
     "output_type": "execute_result"
    }
   ],
   "source": [
    "df[df['title'] == 'Robin Hood']"
   ]
  },
  {
   "cell_type": "markdown",
   "metadata": {},
   "source": [
    "## Data Analysis\n",
    "\n",
    "I focus on three variables (<code>release_date</code>, <code>genre_ids</code>, and <code>production_budget</code>) and find a pattern with respect to <code>worldwide_gross</code>"
   ]
  },
  {
   "cell_type": "markdown",
   "metadata": {},
   "source": [
    "#### Seasonal releases\n",
    "\n",
    "I create a new column <code>month</code> to group up the release dates by months. Based on the results, movies release during the months of May, June, July, November, and December have a higher worldwide box office gross. These months are concurrent with the summer and holiday seasons."
   ]
  },
  {
   "cell_type": "code",
   "execution_count": 26,
   "metadata": {},
   "outputs": [],
   "source": [
    "# Create new column 'month' that returns the month of each release date\n",
    "df['month'] = df['release_date'].dt.strftime('%b')"
   ]
  },
  {
   "cell_type": "markdown",
   "metadata": {},
   "source": [
    "Based on the number of movies released by month. October had the most followed by September."
   ]
  },
  {
   "cell_type": "code",
   "execution_count": 64,
   "metadata": {},
   "outputs": [
    {
     "data": {
      "text/plain": [
       "Oct    137\n",
       "Sep    121\n",
       "Aug    112\n",
       "Dec    111\n",
       "Mar    111\n",
       "Nov    105\n",
       "Jul    101\n",
       "Apr     96\n",
       "Jun     96\n",
       "Feb     85\n",
       "May     84\n",
       "Jan     71\n",
       "Name: month, dtype: int64"
      ]
     },
     "execution_count": 64,
     "metadata": {},
     "output_type": "execute_result"
    }
   ],
   "source": [
    "rm = df['month'].value_counts()\n",
    "rm"
   ]
  },
  {
   "cell_type": "code",
   "execution_count": 56,
   "metadata": {},
   "outputs": [
    {
     "data": {
      "image/png": "[encoded data removed]",
      "text/plain": [
       "<Figure size 720x720 with 1 Axes>"
      ]
     },
     "metadata": {},
     "output_type": "display_data"
    }
   ],
   "source": [
    "order_list = ['Jan', 'Feb', 'Mar', 'Apr', 'May', 'Jun', 'Jul', 'Aug', 'Sep', 'Oct', 'Nov', 'Dec']\n",
    "sns.set_style('darkgrid')\n",
    "sns.set(font_scale = 2)\n",
    "plt.figure(figsize = (10,10))\n",
    "ax = sns.barplot(x = rm.index, y = rm, order = order_list)\n",
    "ax.set_title('Number of movies released by month')\n",
    "ax.set(ylabel = 'Count');"
   ]
  },
  {
   "cell_type": "markdown",
   "metadata": {},
   "source": [
    "From the below graph we can see that movies released in May, June, July, November, and December has the highest worldwide box office results, while having less movies released than October and September. "
   ]
  },
  {
   "cell_type": "code",
   "execution_count": 65,
   "metadata": {},
   "outputs": [
    {
     "data": {
      "image/png": "[encoded data removed]",
      "text/plain": [
       "<Figure size 1440x1440 with 1 Axes>"
      ]
     },
     "metadata": {},
     "output_type": "display_data"
    }
   ],
   "source": [
    "# Seaborns barplot allows us to plot categorical data and show the mean value of each category. \n",
    "order_list = ['Jan', 'Feb', 'Mar', 'Apr', 'May', 'Jun', 'Jul', 'Aug', 'Sep', 'Oct', 'Nov', 'Dec']\n",
    "sns.set_style('darkgrid')\n",
    "sns.set(font_scale = 2)\n",
    "plt.figure(figsize = (20,20))\n",
    "ax = sns.boxplot(x = 'month', y = 'worldwide_gross', data = df, palette = 'deep', showfliers = False, order = order_list)\n",
    "ax.set_title('Worldwide Box Office by Month of release')\n",
    "ax.set(xlabel = 'Release Months', ylabel = 'Worldwide Gross Box Office USD')\n",
    "ax.yaxis.set_major_formatter(ticker.FuncFormatter(lambda x, pos: '{:,.2f}'.format(x/1000000) + 'M'))"
   ]
  },
  {
   "cell_type": "markdown",
   "metadata": {},
   "source": [
    "#### Genres\n",
    "\n",
    "Movies with the adventure sub-genre associated to them have highest average worldwide box office gross. Followed by animation and fantasy."
   ]
  },
  {
   "cell_type": "code",
   "execution_count": 66,
   "metadata": {},
   "outputs": [],
   "source": [
    "# Seperate sub genres in movies and count them as a movie in each genre.\n",
    "# Change genre id from a list within a string to a list of strings\n",
    "df['genre_ids'] = df['genre_ids'].str.strip('[]').str.split(', ') \n",
    "genre_data = df.explode('genre_ids')"
   ]
  },
  {
   "cell_type": "code",
   "execution_count": 69,
   "metadata": {},
   "outputs": [],
   "source": [
    "# create a list to change genre ids into their respective names\n",
    "# genre list found in TMDB API documentation\n",
    "genre_list = {'28': 'Action', '12': 'Adventure', '16': 'Animation', '35': 'Comedy', '80': 'Crime', '99': 'Documentary',\\\n",
    "              '18': 'Drama', '10751': 'Family', '14': 'Fantasy', '36': 'History', '27': 'Horror', '10402': 'Music',\\\n",
    "              '9648': 'Mystery', '10749': 'Romance', '878': 'Sci-Fi', '10770': 'TV Movie', '53': 'Thriller', '10752': 'War',\\\n",
    "              '37': 'Western', '': 'No Genre'}\n",
    "# Chang ids into respective names by passing through the map function\n",
    "genre_data['genre_ids'] = genre_data['genre_ids'].map(genre_list)"
   ]
  },
  {
   "cell_type": "code",
   "execution_count": 78,
   "metadata": {},
   "outputs": [
    {
     "data": {
      "text/plain": [
       "Drama          571\n",
       "Comedy         419\n",
       "Thriller       354\n",
       "Action         341\n",
       "Adventure      234\n",
       "Crime          177\n",
       "Sci-Fi         158\n",
       "Romance        157\n",
       "Horror         154\n",
       "Family         144\n",
       "Fantasy        138\n",
       "Mystery         93\n",
       "Animation       83\n",
       "History         47\n",
       "Music           38\n",
       "War             32\n",
       "Western         17\n",
       "Documentary     13\n",
       "No Genre         1\n",
       "Name: genre_ids, dtype: int64"
      ]
     },
     "execution_count": 78,
     "metadata": {},
     "output_type": "execute_result"
    }
   ],
   "source": [
    "gd = genre_data['genre_ids'].value_counts()\n",
    "gd"
   ]
  },
  {
   "cell_type": "code",
   "execution_count": 82,
   "metadata": {},
   "outputs": [
    {
     "data": {
      "image/png": "[encoded data removed]",
      "text/plain": [
       "<Figure size 720x720 with 1 Axes>"
      ]
     },
     "metadata": {},
     "output_type": "display_data"
    }
   ],
   "source": [
    "sns.set_style('darkgrid')\n",
    "sns.set(font_scale = 1)\n",
    "plt.figure(figsize = (10,10))\n",
    "ax = sns.barplot(x = gd.index, y = gd, data = genre_data)\n",
    "plt.xticks(rotation = 45)\n",
    "ax.set_title('Number of movies released by genre')\n",
    "ax.set(ylabel = 'Count');"
   ]
  },
  {
   "cell_type": "code",
   "execution_count": 79,
   "metadata": {},
   "outputs": [],
   "source": [
    "# Group movies by their genre while averaging the worldwide_gross\n",
    "grouped_genre = genre_data.groupby('genre_ids')['worldwide_gross'].mean()"
   ]
  },
  {
   "cell_type": "code",
   "execution_count": 80,
   "metadata": {},
   "outputs": [],
   "source": [
    "# Sort by worldwide_gross by decsending value\n",
    "grouped_genre = grouped_genre.sort_values(ascending = False)"
   ]
  },
  {
   "cell_type": "code",
   "execution_count": 81,
   "metadata": {},
   "outputs": [
    {
     "data": {
      "image/png": "[encoded data removed]",
      "text/plain": [
       "<Figure size 1440x1440 with 1 Axes>"
      ]
     },
     "metadata": {},
     "output_type": "display_data"
    }
   ],
   "source": [
    "# Plot results\n",
    "sns.set_style('darkgrid')\n",
    "sns.set(font_scale = 2)\n",
    "plt.figure(figsize = (20,20))\n",
    "ax = sns.barplot(x = grouped_genre, y = grouped_genre.index , palette = 'deep')\n",
    "ax.set_title('Average Worldwide Box Office by Genres')\n",
    "ax.set(ylabel = 'Genres', xlabel = 'Average Worldwide Gross Box Office USD')\n",
    "ax.xaxis.set_major_formatter(ticker.FuncFormatter(lambda x, pos: '{:,.2f}'.format(x/1000000) + 'M'))\n",
    "plt.show()"
   ]
  },
  {
   "cell_type": "markdown",
   "metadata": {},
   "source": [
    "#### Production Budget\n",
    "\n",
    "A positive correaltion is found between <code>production_budget</code> and <code>worldwide_gross</code>. This shows that higher production budgets tend to result in higher worldwide box office results."
   ]
  },
  {
   "cell_type": "code",
   "execution_count": null,
   "metadata": {},
   "outputs": [],
   "source": [
    "# Create Plot\n",
    "sns.set_style('darkgrid')\n",
    "sns.set(font_scale = 2)\n",
    "plt.figure(figsize = (20,20))\n",
    "ax = sns.regplot(x = 'production_budget', y = 'worldwide_gross', data = df)\n",
    "ax.set_title('Production Budget vs Worldwide gross Box office')\n",
    "ax.set(xlabel = 'Production Budget USD', ylabel = 'Worldwide Gross Box Office USD')\n",
    "ax.xaxis.set_major_formatter(ticker.FuncFormatter(lambda x, pos: '{:,.2f}'.format(x/1000000) + 'M'))\n",
    "ax.yaxis.set_major_formatter(ticker.FuncFormatter(lambda x, pos: '{:,.2f}'.format(x/1000000000) + 'B'))\n",
    "plt.show()"
   ]
  },
  {
   "cell_type": "code",
   "execution_count": null,
   "metadata": {},
   "outputs": [],
   "source": [
    "# Create Plot\n",
    "sns.set_style('darkgrid')\n",
    "sns.set(font_scale = 2)\n",
    "plt.figure(figsize = (20,20))\n",
    "ax = sns.scatterplot(x = 'production_budget', y = 'worldwide_gross', data = df, hue = 'sf')\n",
    "ax.set_title('Production Budget vs Worldwide gross Box office')\n",
    "ax.set(xlabel = 'Production Budget USD', ylabel = 'Worldwide Gross Box Office USD')\n",
    "ax.xaxis.set_major_formatter(ticker.FuncFormatter(lambda x, pos: '{:,.2f}'.format(x/1000000) + 'M'))\n",
    "ax.yaxis.set_major_formatter(ticker.FuncFormatter(lambda x, pos: '{:,.2f}'.format(x/1000000000) + 'B'))\n",
    "plt.show()"
   ]
  },
  {
   "cell_type": "code",
   "execution_count": null,
   "metadata": {},
   "outputs": [],
   "source": [
    "df['profit'] = df['worldwide_gross'] - df['production_budget']"
   ]
  },
  {
   "cell_type": "code",
   "execution_count": null,
   "metadata": {},
   "outputs": [],
   "source": [
    "df['profit/loss'] = df['profit'].map(lambda x: 'Success' if x > 0 else 'Loss' )"
   ]
  },
  {
   "cell_type": "code",
   "execution_count": null,
   "metadata": {},
   "outputs": [],
   "source": [
    "bins = [0, 5000000, 10000000, 25000000, 50000000, 100000000, 150000000, 200000000, np.inf]\n",
    "bin_list = ['Less than 5M', '5M - 10M', '10M - 25M', '25M - 50M', '50M - 100M', '100M - 150M', '150M - 200M', 'Over 200M']\n",
    "df['budget category'] = pd.cut(df['production_budget'], bins = bins, labels = bin_list)"
   ]
  },
  {
   "cell_type": "code",
   "execution_count": null,
   "metadata": {},
   "outputs": [],
   "source": [
    "df['profit/loss'] = (df['profit'] > 0).astype(int)"
   ]
  },
  {
   "cell_type": "code",
   "execution_count": null,
   "metadata": {},
   "outputs": [],
   "source": [
    "df['sf'] = df['profit'].map(lambda x: 'Success' if x > 0 else 'Loss' )"
   ]
  },
  {
   "cell_type": "code",
   "execution_count": null,
   "metadata": {},
   "outputs": [],
   "source": [
    "plt.style.use('ggplot')\n",
    "plt.rc('ytick', labelsize = 20)\n",
    "plt.rc('legend', fontsize = 10)\n",
    "ax = df.groupby('budget category')['sf'].value_counts(normalize = True).unstack('sf').plot.barh(figsize = (15,10), stacked = True);\n",
    "for rect in ax.patches:\n",
    "    # Find where everything is located\n",
    "    height = rect.get_height()\n",
    "    width = rect.get_width()\n",
    "    x = rect.get_x()\n",
    "    y = rect.get_y()\n",
    "    \n",
    "    # The height of the bar is the data value and can be used as the label\n",
    "    label_text = f'{(width*100):.1f}%'  # f'{width:.2f}' to format decimal values\n",
    "    \n",
    "    # ax.text(x, y, text)\n",
    "    label_x = x + width / 2\n",
    "    label_y = y + height / 2\n",
    "    \n",
    "    # only plot labels greater than given width\n",
    "    if width > 0:\n",
    "        ax.text(label_x, label_y, label_text, ha='center', va='center', fontsize=15)\n",
    "\n",
    "# move the legend\n",
    "ax.legend(bbox_to_anchor=(1.05, 1), loc='upper left', borderaxespad=0.)\n",
    "ax.axes.xaxis.set_ticklabels([])\n",
    "plt.show()"
   ]
  },
  {
   "cell_type": "markdown",
   "metadata": {},
   "source": [
    "## Conclusions\n",
    "\n",
    "This analysis leads to three recommendations to help Microsoft in deciding what movies to make:\n",
    "\n",
    "- __Consider release date of movie.__ The months leading up to summer and the end of year holiday months have shown to have brought back higher box office totals.\n",
    "\n",
    "- __Adventure as the go to genre for movies with high box office totals.__ While there are alot of different genres and sub genres in movies now. Movies with higher box office totals have an adventure aspect to them.\n",
    "\n",
    "- __People want to see expensive movies.__ Investment pays off. Bringing in high quality directors and actors/actresses will entice people to want to see the movie.\n",
    "\n",
    "There are many variables to examine to predict box office success of a movie. This analysis only looked at three of them.\n",
    " \n",
    "## Next Steps\n",
    "\n",
    "Further data and analysis can help Microsoft narrow down their decision making.\n",
    "\n",
    "- __Marketing plays a big part in movie sucess.__  Examing this data could give insights on how audiences respond to different marketing techniques when promoting a movie.\n",
    "- __Analysis of MPAA ratings.__ Analyzing this data could help decide what rating the movie should aim for.\n"
   ]
  }
 ],
 "metadata": {
  "kernelspec": {
   "display_name": "Python 3",
   "language": "python",
   "name": "python3"
  },
  "language_info": {
   "codemirror_mode": {
    "name": "ipython",
    "version": 3
   },
   "file_extension": ".py",
   "mimetype": "text/x-python",
   "name": "python",
   "nbconvert_exporter": "python",
   "pygments_lexer": "ipython3",
   "version": "3.8.5"
  }
 },
 "nbformat": 4,
 "nbformat_minor": 4
}
